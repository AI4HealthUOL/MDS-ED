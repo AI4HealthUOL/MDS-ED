{
 "cells": [
  {
   "cell_type": "code",
   "execution_count": null,
   "id": "2deb2e47",
   "metadata": {},
   "outputs": [],
   "source": [
    "import pandas as pd\n",
    "import numpy as np"
   ]
  },
  {
   "cell_type": "code",
   "execution_count": null,
   "id": "00be8c77",
   "metadata": {},
   "outputs": [],
   "source": [
    "df = pd.read_csv('data/memmap/mds_ed.csv')"
   ]
  },
  {
   "cell_type": "code",
   "execution_count": null,
   "id": "3adca8a5",
   "metadata": {},
   "outputs": [],
   "source": [
    "df.shape"
   ]
  },
  {
   "cell_type": "code",
   "execution_count": null,
   "id": "203f0af5",
   "metadata": {},
   "outputs": [],
   "source": []
  },
  {
   "cell_type": "code",
   "execution_count": null,
   "id": "c0c0b0af",
   "metadata": {},
   "outputs": [],
   "source": [
    "general_columns = [i for i in df.columns if 'general_' in i]\n",
    "len(general_columns)"
   ]
  },
  {
   "cell_type": "code",
   "execution_count": null,
   "id": "c2da4cf9",
   "metadata": {},
   "outputs": [],
   "source": [
    "demographics_columns = [i for i in df.columns if 'demographics_' in i]\n",
    "len(demographics_columns)"
   ]
  },
  {
   "cell_type": "code",
   "execution_count": null,
   "id": "dd363e02",
   "metadata": {},
   "outputs": [],
   "source": [
    "biometrics_columns = [i for i in df.columns if 'biometrics_' in i]\n",
    "len(biometrics_columns)"
   ]
  },
  {
   "cell_type": "code",
   "execution_count": null,
   "id": "f74b9dca",
   "metadata": {},
   "outputs": [],
   "source": [
    "vitalparameters_columns = [i for i in df.columns if 'vitalparemeters_' in i]\n",
    "len(vitalparameters_columns)"
   ]
  },
  {
   "cell_type": "code",
   "execution_count": null,
   "id": "a66bd921",
   "metadata": {},
   "outputs": [],
   "source": [
    "labvalues_columns = [i for i in df.columns if 'labvalues_' in i]\n",
    "len(labvalues_columns)"
   ]
  },
  {
   "cell_type": "code",
   "execution_count": null,
   "id": "3a9d3c38",
   "metadata": {},
   "outputs": [],
   "source": [
    "all_features = demographics_columns + biometrics_columns + vitalparameters_columns + labvalues_columns"
   ]
  },
  {
   "cell_type": "code",
   "execution_count": null,
   "id": "6fa446e7",
   "metadata": {},
   "outputs": [],
   "source": [
    "len(all_features)"
   ]
  },
  {
   "cell_type": "code",
   "execution_count": null,
   "id": "4fd420f6",
   "metadata": {},
   "outputs": [],
   "source": []
  },
  {
   "cell_type": "code",
   "execution_count": null,
   "id": "c3b03337",
   "metadata": {},
   "outputs": [],
   "source": [
    "all_features_with_masks = []\n",
    "\n",
    "for col in all_features:\n",
    "    mask_col = col + '_m'\n",
    "    df[mask_col] = df[col].notna().astype(float)\n",
    "    all_features_with_masks.append(col)\n",
    "    all_features_with_masks.append(mask_col)\n",
    "    \n",
    "selected_folds = df[df['general_strat_fold'].isin(range(0, 18))]\n",
    "\n",
    "medians = selected_folds[all_features].median()\n",
    "df[all_features] = df[all_features].fillna(medians)"
   ]
  },
  {
   "cell_type": "code",
   "execution_count": null,
   "id": "970fb0d9",
   "metadata": {},
   "outputs": [],
   "source": []
  },
  {
   "cell_type": "code",
   "execution_count": null,
   "id": "17ca8381",
   "metadata": {},
   "outputs": [],
   "source": [
    "diagnoses_columns = [i for i in df.columns if 'diagnoses_' in i]\n",
    "len(diagnoses_columns)"
   ]
  },
  {
   "cell_type": "code",
   "execution_count": null,
   "id": "4027ce04",
   "metadata": {},
   "outputs": [],
   "source": [
    "deterioration_columns = [i for i in df.columns if 'deterioration_' in i]\n",
    "len(deterioration_columns)"
   ]
  },
  {
   "cell_type": "code",
   "execution_count": null,
   "id": "759a1531",
   "metadata": {},
   "outputs": [],
   "source": []
  },
  {
   "cell_type": "code",
   "execution_count": null,
   "id": "2f02f0c4",
   "metadata": {},
   "outputs": [],
   "source": [
    "# note: column 'general_data' is the index of the waveform from MIMIC-IV-ECG"
   ]
  },
  {
   "cell_type": "code",
   "execution_count": null,
   "id": "1cf45728",
   "metadata": {},
   "outputs": [],
   "source": [
    "# All features (e.g. Multimodal ECG waveform + tabular):\n",
    "\n",
    "x_train = df[df['general_strat_fold'].isin(range(0, 18))].reset_index(drop=True)\n",
    "x_val = df[df['general_strat_fold'].isin([18])].reset_index(drop=True)\n",
    "x_test = df[df['general_strat_fold'].isin([19])].reset_index(drop=True)\n",
    "\n",
    "indexes_val = x_val[x_val['general_ecg_no_within_stay']==0].index\n",
    "indexes_test = x_test[x_test['general_ecg_no_within_stay']==0].index\n",
    "\n",
    "\n",
    "# use 'all_features_with_mask' for deep learning e.g. S4 or 'all_features' for tabular e.g. XGBoost \n",
    "x_train = x_train[all_features_with_masks].reset_index(drop=True)\n",
    "x_val = x_val.iloc[indexes_val][all_features_with_masks].reset_index(drop=True)\n",
    "x_test = x_test.iloc[indexes_test][all_features_with_masks].reset_index(drop=True)\n",
    "\n",
    "y_train_diagnoses = df[df['general_strat_fold'].isin(range(0, 18))][diagnoses_columns].reset_index(drop=True).values\n",
    "y_val_diagnoses = df[df['general_strat_fold'].isin([18])][diagnoses_columns].reset_index(drop=True)\n",
    "y_test_diagnoses = df[df['general_strat_fold'].isin([19])][diagnoses_columns].reset_index(drop=True)\n",
    "\n",
    "y_val_diagnoses = y_val_diagnoses.iloc[indexes_val].values\n",
    "y_test_diagnoses = y_test_diagnoses.iloc[indexes_test].values\n",
    "\n",
    "y_train_deterioration = df[df['general_strat_fold'].isin(range(0, 18))][deterioration_columns].reset_index(drop=True).values\n",
    "y_val_deterioration = df[df['general_strat_fold'].isin([18])][deterioration_columns].reset_index(drop=True)\n",
    "y_test_deterioration = df[df['general_strat_fold'].isin([19])][deterioration_columns].reset_index(drop=True)\n",
    "\n",
    "y_val_deterioration = y_val_deterioration.iloc[indexes_val].values\n",
    "y_test_deterioration = y_test_deterioration.iloc[indexes_test].values"
   ]
  },
  {
   "cell_type": "code",
   "execution_count": null,
   "id": "491dd2bf",
   "metadata": {},
   "outputs": [],
   "source": []
  },
  {
   "cell_type": "code",
   "execution_count": null,
   "id": "5330e2d4",
   "metadata": {},
   "outputs": [],
   "source": [
    "# additional: for XGBoost one should also remove samples where y is special token -999, e.g..."
   ]
  },
  {
   "cell_type": "code",
   "execution_count": null,
   "id": "51ac3910",
   "metadata": {},
   "outputs": [],
   "source": [
    "deterioration_columns[-1]"
   ]
  },
  {
   "cell_type": "code",
   "execution_count": null,
   "id": "b91dcc36",
   "metadata": {},
   "outputs": [],
   "source": [
    "label_index = -1\n",
    "\n",
    "to_keep_train = np.argwhere(y_train_deterioration[:,label_index]!=-999)[:,0]\n",
    "to_keep_val = np.argwhere(y_val_deterioration[:,label_index]!=-999)[:,0]\n",
    "to_keep_test = np.argwhere(y_test_deterioration[:,label_index]!=-999)[:,0]\n",
    "\n",
    "x_train_label = x_train.iloc[to_keep_train]\n",
    "x_val_label = x_val.iloc[to_keep_val]\n",
    "x_test_label = x_test.iloc[to_keep_test]\n",
    "\n",
    "y_train_deterioration_label = y_train_deterioration[to_keep_train,label_index]\n",
    "y_val_deterioration_label = y_val_deterioration[to_keep_val,label_index]\n",
    "y_test_deterioration_label = y_test_deterioration[to_keep_test,label_index]"
   ]
  },
  {
   "cell_type": "code",
   "execution_count": null,
   "id": "27fae867",
   "metadata": {},
   "outputs": [],
   "source": []
  }
 ],
 "metadata": {
  "kernelspec": {
   "display_name": "Python 3 (ipykernel)",
   "language": "python",
   "name": "python3"
  },
  "language_info": {
   "codemirror_mode": {
    "name": "ipython",
    "version": 3
   },
   "file_extension": ".py",
   "mimetype": "text/x-python",
   "name": "python",
   "nbconvert_exporter": "python",
   "pygments_lexer": "ipython3",
   "version": "3.10.8"
  }
 },
 "nbformat": 4,
 "nbformat_minor": 5
}

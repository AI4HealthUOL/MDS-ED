{
 "cells": [
  {
   "cell_type": "code",
   "execution_count": 1,
   "id": "2deb2e47",
   "metadata": {},
   "outputs": [],
   "source": [
    "import pandas as pd\n",
    "import numpy as np"
   ]
  },
  {
   "cell_type": "code",
   "execution_count": null,
   "id": "00be8c77",
   "metadata": {},
   "outputs": [],
   "source": [
    "df = pd.read_csv('data/memmap/df_memmap.csv')"
   ]
  },
  {
   "cell_type": "code",
   "execution_count": null,
   "id": "3adca8a5",
   "metadata": {},
   "outputs": [],
   "source": []
  },
  {
   "cell_type": "code",
   "execution_count": null,
   "id": "c0c0b0af",
   "metadata": {},
   "outputs": [],
   "source": [
    "general_columns = [i for i in df_features.columns if 'general_' in i]\n",
    "len(general_columns)"
   ]
  },
  {
   "cell_type": "code",
   "execution_count": null,
   "id": "c2da4cf9",
   "metadata": {},
   "outputs": [],
   "source": [
    "demographics_columns = [i for i in df_features.columns if 'demographics_' in i]\n",
    "len(demographics_columns)"
   ]
  },
  {
   "cell_type": "code",
   "execution_count": null,
   "id": "dd363e02",
   "metadata": {},
   "outputs": [],
   "source": [
    "biometrics_columns = [i for i in df_features.columns if 'biometrics_' in i]\n",
    "len(biometrics_columns)"
   ]
  },
  {
   "cell_type": "code",
   "execution_count": null,
   "id": "f74b9dca",
   "metadata": {},
   "outputs": [],
   "source": [
    "vitalparameters_columns = [i for i in df_features.columns if 'vitalparemeters_' in i]\n",
    "len(vitalparameters_columns)"
   ]
  },
  {
   "cell_type": "code",
   "execution_count": null,
   "id": "a66bd921",
   "metadata": {},
   "outputs": [],
   "source": [
    "labvalues_columns = [i for i in df_features.columns if 'labvalues_' in i]\n",
    "len(labvalues_columns)"
   ]
  },
  {
   "cell_type": "code",
   "execution_count": null,
   "id": "3a9d3c38",
   "metadata": {},
   "outputs": [],
   "source": [
    "all_features = demographics_columns + biometrics_columns + vitalparameters_columns + labvalues_columns"
   ]
  },
  {
   "cell_type": "code",
   "execution_count": null,
   "id": "4d925584",
   "metadata": {},
   "outputs": [],
   "source": []
  },
  {
   "cell_type": "code",
   "execution_count": null,
   "id": "17ca8381",
   "metadata": {},
   "outputs": [],
   "source": [
    "diagnoses_columns = [i for i in df_features.columns if 'diagnoses_' in i]\n",
    "len(diagnoses_columns)"
   ]
  },
  {
   "cell_type": "code",
   "execution_count": null,
   "id": "4027ce04",
   "metadata": {},
   "outputs": [],
   "source": [
    "deterioration_columns = [i for i in df_features.columns if 'deterioration_' in i]\n",
    "len(deterioration_columns)"
   ]
  },
  {
   "cell_type": "code",
   "execution_count": null,
   "id": "b25c920e",
   "metadata": {},
   "outputs": [],
   "source": []
  },
  {
   "cell_type": "code",
   "execution_count": null,
   "id": "c2fa7bee",
   "metadata": {},
   "outputs": [],
   "source": []
  },
  {
   "cell_type": "code",
   "execution_count": null,
   "id": "2f02f0c4",
   "metadata": {},
   "outputs": [],
   "source": [
    "# note: column 'general_data' is the index of the waveform from MIMIC-IV-ECG"
   ]
  },
  {
   "cell_type": "code",
   "execution_count": null,
   "id": "1cf45728",
   "metadata": {},
   "outputs": [],
   "source": [
    "# All features (e.g. Multimodal ECG waveform + tabular):\n",
    "\n",
    "x_train = df[df['general_strat_fold'].isin(range(0, 18))].reset_index(drop=True)\n",
    "x_val = df[df['general_strat_fold'].isin([18])].reset_index(drop=True)\n",
    "x_test = df[df['general_strat_fold'].isin([19])].reset_index(drop=True)\n",
    "\n",
    "indexes_val = x_val[x_val['ecg_no_within_stay']==0].index\n",
    "indexes_test = x_test[x_test['ecg_no_within_stay']==0].index\n",
    "\n",
    "x_train = x_train[all_features]\n",
    "x_val = x_val.iloc[indexes_val][all_features]\n",
    "x_test = x_test.iloc[indexes_test][all_features]\n",
    "\n",
    "y_train_diagnoses = df_features[df_features['strat_fold'].isin(range(0, 18))][diagnoses_columns].reset_index(drop=True).values\n",
    "y_val_diagnoses = df_features[df_features['strat_fold'].isin([18])][diagnoses_columns].reset_index(drop=True)\n",
    "y_test_diagnoses = df_features[df_features['strat_fold'].isin([19])][diagnoses_columns].reset_index(drop=True)\n",
    "\n",
    "y_val_diagnoses = y_val_diagnoses.iloc[indexes_val].values\n",
    "y_test_diagnoses = y_test_diagnoses.iloc[indexes_test].values\n",
    "\n",
    "y_train_deterioration = df_features[df_features['strat_fold'].isin(range(0, 18))][deterioration_columns].reset_index(drop=True).values\n",
    "y_val_deterioration = df_features[df_features['strat_fold'].isin([18])][deterioration_columns].reset_index(drop=True)\n",
    "y_test_deterioration = df_features[df_features['strat_fold'].isin([19])][deterioration_columns].reset_index(drop=True)\n",
    "\n",
    "y_val_deterioration = y_val_deterioration.iloc[indexes_val].values\n",
    "y_test_deterioration = y_test_deterioration.iloc[indexes_test].values"
   ]
  },
  {
   "cell_type": "code",
   "execution_count": null,
   "id": "51ac3910",
   "metadata": {},
   "outputs": [],
   "source": []
  },
  {
   "cell_type": "code",
   "execution_count": null,
   "id": "b91dcc36",
   "metadata": {},
   "outputs": [],
   "source": [
    "# you can always bring back the missigness, e.g. use xgboost\n",
    "\n",
    "features_real = all_features if not finish in '_m'\n",
    "features_mask = all_features if finish in '_m'\n",
    "\n",
    "mask_array = x_train[features_mask].astype(bool)\n",
    "x_train_real_with_missing = np.where(mask_array, x_train[features_real], np.nan)"
   ]
  },
  {
   "cell_type": "code",
   "execution_count": null,
   "id": "27fae867",
   "metadata": {},
   "outputs": [],
   "source": []
  },
  {
   "cell_type": "code",
   "execution_count": null,
   "id": "1c322ec0",
   "metadata": {},
   "outputs": [],
   "source": []
  },
  {
   "cell_type": "code",
   "execution_count": null,
   "id": "59e19dd3",
   "metadata": {},
   "outputs": [],
   "source": []
  }
 ],
 "metadata": {
  "kernelspec": {
   "display_name": "Python 3 (ipykernel)",
   "language": "python",
   "name": "python3"
  },
  "language_info": {
   "codemirror_mode": {
    "name": "ipython",
    "version": 3
   },
   "file_extension": ".py",
   "mimetype": "text/x-python",
   "name": "python",
   "nbconvert_exporter": "python",
   "pygments_lexer": "ipython3",
   "version": "3.10.8"
  }
 },
 "nbformat": 4,
 "nbformat_minor": 5
}

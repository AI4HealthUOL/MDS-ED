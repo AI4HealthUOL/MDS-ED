{
 "cells": [
  {
   "cell_type": "code",
   "execution_count": null,
   "id": "2deb2e47",
   "metadata": {},
   "outputs": [],
   "source": [
    "import pandas as pd\n",
    "import pickle as pkl"
   ]
  },
  {
   "cell_type": "code",
   "execution_count": null,
   "id": "b1a385c8",
   "metadata": {},
   "outputs": [],
   "source": []
  },
  {
   "cell_type": "code",
   "execution_count": null,
   "id": "00be8c77",
   "metadata": {},
   "outputs": [],
   "source": [
    "df = pd.read_csv('data/memmap/df_memmap.csv')"
   ]
  },
  {
   "cell_type": "code",
   "execution_count": null,
   "id": "3adca8a5",
   "metadata": {},
   "outputs": [],
   "source": [
    "all_features = np.load('data/cols_static.npy')\n",
    "\n",
    "with open('data/task_mapping.pkl', 'rb') as f:\n",
    "    task_mapping = pkl.load(f)"
   ]
  },
  {
   "cell_type": "code",
   "execution_count": null,
   "id": "dd363e02",
   "metadata": {},
   "outputs": [],
   "source": [
    "lbls_diags = task_mapping['diags']['lbls']\n",
    "lbls_det = task_mapping['det']['lbls']\n",
    "col_diags = task_mapping['diags']['col']\n",
    "col_det = task_mapping['det']['col']"
   ]
  },
  {
   "cell_type": "code",
   "execution_count": null,
   "id": "3fa04203",
   "metadata": {},
   "outputs": [],
   "source": [
    "for c in [cols_diags, cols_det]:\n",
    "    df[c]=df[c].apply(lambda x:eval(x))"
   ]
  },
  {
   "cell_type": "code",
   "execution_count": null,
   "id": "4f39c099",
   "metadata": {},
   "outputs": [],
   "source": []
  },
  {
   "cell_type": "code",
   "execution_count": null,
   "id": "2f02f0c4",
   "metadata": {},
   "outputs": [],
   "source": [
    "# note: column 'data' is the index of the waveform from MIMIC-IV-ECG"
   ]
  },
  {
   "cell_type": "code",
   "execution_count": null,
   "id": "1cf45728",
   "metadata": {},
   "outputs": [],
   "source": [
    "# All features (e.g. Multimodal ECG waveform + tabular):\n",
    "\n",
    "x_train = df[df['strat_fold'].isin(range(0, 18))].drop(columns=['study_id','strat_fold']).reset_index(drop=True)\n",
    "x_val = df[df['strat_fold'].isin([18])].drop(columns=['study_id','strat_fold']).reset_index(drop=True)\n",
    "x_test = df[df['strat_fold'].isin([19])].drop(columns=['study_id','strat_fold']).reset_index(drop=True)\n",
    "\n",
    "\n",
    "x_train = x_train[all_features]\n",
    "\n",
    "indexes_val = x_val[x_val['ecg_no_within_stay']==0].index\n",
    "indexes_test = x_test[x_test['ecg_no_within_stay']==0].index\n",
    "\n",
    "x_val = x_val.iloc[indexes_val][all_features]\n",
    "x_test = x_test.iloc[indexes_test][all_features]\n",
    "\n",
    "\n",
    "y_train_diagnoses = df_features[df_features['strat_fold'].isin(range(0, 18))][col_diags].reset_index(drop=True)\n",
    "y_val_diagnoses = df_features[df_features['strat_fold'].isin([18])][col_diags].reset_index(drop=True)\n",
    "y_test_diagnoses = df_features[df_features['strat_fold'].isin([19])][col_diags].reset_index(drop=True)\n",
    "\n",
    "y_val_diagnoses = y_val_diagnoses.iloc[indexes_val]\n",
    "y_test_diagnoses = y_test_diagnoses.iloc[indexes_test]\n",
    "\n",
    "y_train_deterioration = df_features[df_features['strat_fold'].isin(range(0, 18))][col_det].reset_index(drop=True)\n",
    "y_val_deterioration = df_features[df_features['strat_fold'].isin([18])][col_det].reset_index(drop=True)\n",
    "y_test_deterioration = df_features[df_features['strat_fold'].isin([19])][col_det].reset_index(drop=True)\n",
    "\n",
    "y_val_deterioration = y_val_deterioration.iloc[indexes_val]\n",
    "y_test_deterioration = y_test_deterioration.iloc[indexes_test]"
   ]
  },
  {
   "cell_type": "code",
   "execution_count": null,
   "id": "51ac3910",
   "metadata": {},
   "outputs": [],
   "source": []
  },
  {
   "cell_type": "code",
   "execution_count": null,
   "id": "b91dcc36",
   "metadata": {},
   "outputs": [],
   "source": [
    "# you can always bring back the missigness, e.g. use xgboost\n",
    "\n",
    "features_real = all_features[:470]\n",
    "features_mask = all_features[470:]\n",
    "\n",
    "mask_array = x_train[features_mask].astype(bool)\n",
    "x_train_real_with_missing = np.where(mask_array, x_train[features_real], np.nan)"
   ]
  },
  {
   "cell_type": "code",
   "execution_count": null,
   "id": "27fae867",
   "metadata": {},
   "outputs": [],
   "source": []
  },
  {
   "cell_type": "code",
   "execution_count": null,
   "id": "1c322ec0",
   "metadata": {},
   "outputs": [],
   "source": []
  },
  {
   "cell_type": "code",
   "execution_count": null,
   "id": "59e19dd3",
   "metadata": {},
   "outputs": [],
   "source": []
  }
 ],
 "metadata": {
  "kernelspec": {
   "display_name": "Python 3 (ipykernel)",
   "language": "python",
   "name": "python3"
  },
  "language_info": {
   "codemirror_mode": {
    "name": "ipython",
    "version": 3
   },
   "file_extension": ".py",
   "mimetype": "text/x-python",
   "name": "python",
   "nbconvert_exporter": "python",
   "pygments_lexer": "ipython3",
   "version": "3.10.8"
  }
 },
 "nbformat": 4,
 "nbformat_minor": 5
}
